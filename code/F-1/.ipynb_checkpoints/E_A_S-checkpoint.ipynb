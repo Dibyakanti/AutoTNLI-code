{
 "cells": [
  {
   "cell_type": "code",
   "execution_count": 1,
   "metadata": {},
   "outputs": [],
   "source": [
    "from bs4 import BeautifulSoup\n",
    "import numpy as np\n",
    "import pandas as pd\n",
    "import re\n",
    "import random\n",
    "import sys\n",
    "\n",
    "if './' not in sys.path:\n",
    "    sys.path.append('./')\n",
    "    \n",
    "from Py_f import Psn as P"
   ]
  },
  {
   "cell_type": "code",
   "execution_count": 2,
   "metadata": {},
   "outputs": [],
   "source": [
    "rev_d_Months = {'January':1,'February':2,'March':3,'April':4,'May':5,'June':6,'July':7,'August':8,'September':9,'October':10,'November':11,'December':12}\n",
    "d_Months = {1: 'January',2: 'February',3: 'March',4: 'April',5: 'May',6: 'June',7: 'July',8: 'August',9: 'September',10: 'October',11: 'November',12: 'December'}"
   ]
  },
  {
   "cell_type": "code",
   "execution_count": 3,
   "metadata": {},
   "outputs": [],
   "source": [
    "Catg = pd.read_csv(\"../../autotnlidatasetandcode/table_categories modified.tsv\",sep=\"\\t\") "
   ]
  },
  {
   "cell_type": "code",
   "execution_count": 4,
   "metadata": {},
   "outputs": [],
   "source": [
    "Ptab = np.array(Catg[Catg.category.isin(['Book'])].table_id)\n",
    "tablesFolder = \"../../autotnlidatasetandcode/tables\""
   ]
  },
  {
   "cell_type": "code",
   "execution_count": 5,
   "metadata": {},
   "outputs": [],
   "source": [
    "def parseFile(filename, tablesFolder):\n",
    "    soup = BeautifulSoup(open(tablesFolder + '/' + filename, encoding=\"utf8\"), 'html.parser')\n",
    "    keys =[i.text for i in soup.find('tr').find_all('th')]\n",
    "    vals = []\n",
    "    for i in soup.find('tr').find_all('td'):\n",
    "        result = [val.text.strip().replace(\"\\n\", \"\").replace(\"\\t\", \"\") for val in i.find_all('li')]\n",
    "        if not result:\n",
    "            if \"â€“\" in i.text:\n",
    "                result = [val.strip().replace(\"\\n\", \"\").replace(\"\\t\", \"\") for val in i.text.split(\"â€“\")]\n",
    "            elif \"â€”\" in i.text:\n",
    "                result = [val.strip().replace(\"\\n\", \"\").replace(\"\\t\", \"\") for val in i.text.split(\"â€”\")]\n",
    "            elif \" to \" in i.text:\n",
    "                result = [val.strip().replace(\"\\n\", \"\").replace(\"\\t\", \"\") for val in i.text.split(\"to\")]\n",
    "            else:\n",
    "                result = i.text.strip().replace(\"\\n\", \"\").replace(\"\\t\", \"\")\n",
    "        vals.append(result)\n",
    "    title = keys[0]\n",
    "    dictionary = dict(zip(keys[1:], vals))\n",
    "    dictionary[\"Title\"] = title\n",
    "    dictionary[\"Tablename\"] = filename.split(\".\")[0]\n",
    "    return dictionary"
   ]
  },
  {
   "cell_type": "code",
   "execution_count": 8,
   "metadata": {},
   "outputs": [],
   "source": [
    "# Catg.category.value_counts()"
   ]
  },
  {
   "cell_type": "code",
   "execution_count": 9,
   "metadata": {
    "scrolled": true
   },
   "outputs": [],
   "source": [
    "# for n in range(52):\n",
    "#     if(int(Ptab[n][1:]) <=2044 ):\n",
    "#         dictionary = parseFile(Ptab[n]+\".html\", tablesFolder)\n",
    "#         print(dictionary['Tablename'] ,\" : \")\n",
    "#         for k in dictionary.keys():\n",
    "#             print(k)\n",
    "#         if (\"Born\" in dictionary.keys() and len(dictionary[\"Born\"].split('('))) > 1):\n",
    "#         if(\"Criminal penalty\" in dictionary.keys()):\n",
    "#         print(dictionary['Tablename'],' : ',dictionary)\n",
    "#         else:\n",
    "#             print(dictionary['Tablename'],':',\"!!!\")"
   ]
  },
  {
   "cell_type": "code",
   "execution_count": null,
   "metadata": {},
   "outputs": [],
   "source": []
  },
  {
   "cell_type": "code",
   "execution_count": null,
   "metadata": {},
   "outputs": [],
   "source": []
  }
 ],
 "metadata": {
  "kernelspec": {
   "display_name": "Python 3",
   "language": "python",
   "name": "python3"
  },
  "language_info": {
   "codemirror_mode": {
    "name": "ipython",
    "version": 3
   },
   "file_extension": ".py",
   "mimetype": "text/x-python",
   "name": "python",
   "nbconvert_exporter": "python",
   "pygments_lexer": "ipython3",
   "version": "3.7.4"
  }
 },
 "nbformat": 4,
 "nbformat_minor": 4
}
