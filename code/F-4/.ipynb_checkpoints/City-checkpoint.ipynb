{
 "cells": [
  {
   "cell_type": "code",
   "execution_count": 2,
   "metadata": {},
   "outputs": [],
   "source": [
    "from bs4 import BeautifulSoup\n",
    "import numpy as np\n",
    "import pandas as pd\n",
    "import re\n",
    "import random\n",
    "import sys\n",
    "import json\n",
    "\n",
    "if './' not in sys.path:\n",
    "    sys.path.append('./')\n",
    "    \n",
    "# from Py_f import Psn as P"
   ]
  },
  {
   "cell_type": "code",
   "execution_count": 3,
   "metadata": {},
   "outputs": [],
   "source": [
    "Catg = pd.read_csv(\"../../autotnlidatasetandcode/table_categories modified.tsv\",sep=\"\\t\") "
   ]
  },
  {
   "cell_type": "code",
   "execution_count": 4,
   "metadata": {},
   "outputs": [],
   "source": [
    "Ptab = np.array(Catg[Catg.category.isin([\"City\"])].table_id)\n",
    "tablesFolder = \"../files/json/\""
   ]
  },
  {
   "cell_type": "code",
   "execution_count": 5,
   "metadata": {},
   "outputs": [],
   "source": [
    "def parseFile(filename,tablesFolder):\n",
    "    \n",
    "    f = open(tablesFolder+filename+\".json\")\n",
    "    data = json.load(f)\n",
    "    data['Tablename'] = filename\n",
    "    \n",
    "    return data"
   ]
  },
  {
   "cell_type": "code",
   "execution_count": 6,
   "metadata": {},
   "outputs": [],
   "source": [
    "def get_Metro():\n",
    "    u = set([])\n",
    "    d = {}\n",
    "    k = \"Metro\"\n",
    "    for n in range(194):\n",
    "        if(int(Ptab[n][1:]) <= 2800):\n",
    "            dictionary = parseFile(Ptab[n], tablesFolder)\n",
    "            if(k in dictionary.keys()):\n",
    "#                 print(dictionary['Tablename'],' : ',dictionary['Starring'])\n",
    "                d[dictionary['Tablename']] = []\n",
    "                if(len(dictionary[k]) >= 2 ):\n",
    "                    for i in range(len(dictionary[k])):\n",
    "                        u.add(dictionary[k][i])\n",
    "                        d[dictionary['Tablename']].append(dictionary[k][i])\n",
    "                else:\n",
    "                    for i in range(len(dictionary[k][0].split(\"(\"))):\n",
    "                        u.add(dictionary[k][0].split(\"(\")[i].strip(\")\").lower())\n",
    "                        d[dictionary['Tablename']].append(dictionary[k][0].split(\"(\")[i].strip(\")\").lower())\n",
    "                    \n",
    "            else:\n",
    "#                 print(dictionary['Tablename'],':',\"!!!\")\n",
    "                d[dictionary['Tablename']] = []\n",
    "                d[dictionary['Tablename']].append(None)\n",
    "    return list(u),d"
   ]
  },
  {
   "cell_type": "code",
   "execution_count": 8,
   "metadata": {},
   "outputs": [],
   "source": [
    "# getM()[1]"
   ]
  },
  {
   "cell_type": "code",
   "execution_count": 9,
   "metadata": {},
   "outputs": [],
   "source": [
    "def get_Urban():\n",
    "    u = set([])\n",
    "    d = {}\n",
    "    k = \"Urban\"\n",
    "    for n in range(194):\n",
    "        if(int(Ptab[n][1:]) <= 2800):\n",
    "            dictionary = parseFile(Ptab[n], tablesFolder)\n",
    "            if(k in dictionary.keys()):\n",
    "#                 print(dictionary['Tablename'],' : ',dictionary['Starring'])\n",
    "                d[dictionary['Tablename']] = []\n",
    "                if(len(dictionary[k]) >= 2 ):\n",
    "                    for i in range(len(dictionary[k])):\n",
    "                        u.add(dictionary[k][i])\n",
    "                        d[dictionary['Tablename']].append(dictionary[k][i])\n",
    "                else:\n",
    "                    for i in range(len(dictionary[k][0].split(\"(\"))):\n",
    "                        u.add(dictionary[k][0].split(\"(\")[i].strip(\")\").lower())\n",
    "                        d[dictionary['Tablename']].append(dictionary[k][0].split(\"(\")[i].strip(\")\").lower())\n",
    "                    \n",
    "            else:\n",
    "#                 print(dictionary['Tablename'],':',\"!!!\")\n",
    "                d[dictionary['Tablename']] = []\n",
    "                d[dictionary['Tablename']].append(None)\n",
    "    return list(u),d"
   ]
  },
  {
   "cell_type": "code",
   "execution_count": 11,
   "metadata": {},
   "outputs": [],
   "source": [
    "# getU()[1]"
   ]
  },
  {
   "cell_type": "code",
   "execution_count": 12,
   "metadata": {},
   "outputs": [],
   "source": [
    "def get_Density():\n",
    "    u = set([])\n",
    "    d = {}\n",
    "    k = \"Density\"\n",
    "    for n in range(194):\n",
    "        if(int(Ptab[n][1:]) <= 2800):\n",
    "            dictionary = parseFile(Ptab[n], tablesFolder)\n",
    "            if(k in dictionary.keys()):\n",
    "#                 print(dictionary['Tablename'],' : ',dictionary['Starring'])\n",
    "                d[dictionary['Tablename']] = []\n",
    "                if(len(dictionary[k]) >= 2 ):\n",
    "                    for i in range(len(dictionary[k])):\n",
    "                        u.add(dictionary[k][i])\n",
    "                        d[dictionary['Tablename']].append(dictionary[k][i])\n",
    "                else:\n",
    "#                     for i in range(len(dictionary[k][0].split(\"(\"))):\n",
    "                    for i in range(2):\n",
    "                        u.add(dictionary[k][0].split(\"(\")[i].strip(\")\").lower())\n",
    "                        d[dictionary['Tablename']].append(dictionary[k][0].split(\"(\")[i].strip(\")\").lower())\n",
    "                    \n",
    "            else:\n",
    "#                 print(dictionary['Tablename'],':',\"!!!\")\n",
    "                d[dictionary['Tablename']] = []\n",
    "                d[dictionary['Tablename']].append(None)\n",
    "    return list(u),d"
   ]
  },
  {
   "cell_type": "code",
   "execution_count": 14,
   "metadata": {},
   "outputs": [],
   "source": [
    "# getD()[1]"
   ]
  },
  {
   "cell_type": "code",
   "execution_count": 13,
   "metadata": {},
   "outputs": [],
   "source": [
    "def get_Metro_density():\n",
    "    u = set([])\n",
    "    d = {}\n",
    "    k = \"Metro density\"\n",
    "    for n in range(194):\n",
    "        if(int(Ptab[n][1:]) <= 2800):\n",
    "            dictionary = parseFile(Ptab[n], tablesFolder)\n",
    "            if(k in dictionary.keys()):\n",
    "#                 print(dictionary['Tablename'],' : ',dictionary['Starring'])\n",
    "                d[dictionary['Tablename']] = []\n",
    "                if(len(dictionary[k]) >= 2 ):\n",
    "                    for i in range(len(dictionary[k])):\n",
    "                        u.add(dictionary[k][i])\n",
    "                        d[dictionary['Tablename']].append(dictionary[k][i])\n",
    "                else:\n",
    "#                     for i in range(len(dictionary[k][0].split(\"(\"))):\n",
    "                    for i in range(2):\n",
    "                        u.add(dictionary[k][0].split(\"(\")[i].strip(\")\").lower())\n",
    "                        d[dictionary['Tablename']].append(dictionary[k][0].split(\"(\")[i].strip(\")\").lower())\n",
    "                    \n",
    "            else:\n",
    "#                 print(dictionary['Tablename'],':',\"!!!\")\n",
    "                d[dictionary['Tablename']] = []\n",
    "                d[dictionary['Tablename']].append(None)\n",
    "    return list(u),d"
   ]
  },
  {
   "cell_type": "code",
   "execution_count": 14,
   "metadata": {},
   "outputs": [],
   "source": [
    "# getMd()[1]"
   ]
  },
  {
   "cell_type": "code",
   "execution_count": 15,
   "metadata": {},
   "outputs": [],
   "source": [
    "def get_Urban_density():\n",
    "    u = set([])\n",
    "    d = {}\n",
    "    k = \"Urban density\"\n",
    "    for n in range(194):\n",
    "        if(int(Ptab[n][1:]) <= 2800):\n",
    "            dictionary = parseFile(Ptab[n], tablesFolder)\n",
    "            if(k in dictionary.keys()):\n",
    "#                 print(dictionary['Tablename'],' : ',dictionary['Starring'])\n",
    "                d[dictionary['Tablename']] = []\n",
    "                if(len(dictionary[k]) >= 2 ):\n",
    "                    for i in range(len(dictionary[k])):\n",
    "                        u.add(dictionary[k][i])\n",
    "                        d[dictionary['Tablename']].append(dictionary[k][i])\n",
    "                else:\n",
    "#                     for i in range(len(dictionary[k][0].split(\"(\"))):\n",
    "                    for i in range(2):\n",
    "                        u.add(dictionary[k][0].split(\"(\")[i].strip(\")\").lower())\n",
    "                        d[dictionary['Tablename']].append(dictionary[k][0].split(\"(\")[i].strip(\")\").lower())\n",
    "                    \n",
    "            else:\n",
    "#                 print(dictionary['Tablename'],':',\"!!!\")\n",
    "                d[dictionary['Tablename']] = []\n",
    "                d[dictionary['Tablename']].append(None)\n",
    "    return list(u),d"
   ]
  },
  {
   "cell_type": "code",
   "execution_count": 16,
   "metadata": {},
   "outputs": [],
   "source": [
    "# getUd()[1]"
   ]
  },
  {
   "cell_type": "code",
   "execution_count": 17,
   "metadata": {},
   "outputs": [
    {
     "data": {
      "text/plain": [
       "'\\n1.getM 2.getU 3.getD 4.getMd 5.getUd\\n'"
      ]
     },
     "execution_count": 17,
     "metadata": {},
     "output_type": "execute_result"
    }
   ],
   "source": [
    "'''\n",
    "1.getM 2.getU 3.getD 4.getMd 5.getUd\n",
    "'''"
   ]
  },
  {
   "cell_type": "code",
   "execution_count": 18,
   "metadata": {},
   "outputs": [],
   "source": [
    "def MSent(tb,dn,F,it,tval=True,prem=False):\n",
    "    di = F[1]\n",
    "    univ = F[0]\n",
    "    syn = [\" people \",\" citizen \",\" residents \"]\n",
    "    Nm = dn[tb[it]][0]\n",
    "    if(prem):\n",
    "        if(di[tb[it]][0] != None):\n",
    "            All = ','.join(di[tb[it]])\n",
    "            ps = [  ]\n",
    "            \n",
    "        else:\n",
    "            ps=[None]\n",
    "        return ps\n",
    "    else:\n",
    "        ts = []\n",
    "        if(di[tb[it]][0] != None):\n",
    "            length = len(di[tb[it]])\n",
    "            if(tval):\n",
    "#                 All = ','.join(di[tb[it]])\n",
    "                for i in range(length):\n",
    "                    s = di[tb[it]][i]\n",
    "                    if(re.findall(\"km\")):\n",
    "                        ts.append(  )\n",
    "                    elif(re.findall(\"mi\")):\n",
    "                        ts.append()\n",
    "                    else:\n",
    "                        ts.append()\n",
    "                \n",
    "            else:\n",
    "                NT = random.sample(list(set(univ)-set(di[tb[it]])),random.randint(1,2))\n",
    "                ts.append(  )\n",
    "                \n",
    "        else:\n",
    "            ts.append(None)\n",
    "            \n",
    "        return ts"
   ]
  },
  {
   "cell_type": "code",
   "execution_count": null,
   "metadata": {},
   "outputs": [],
   "source": []
  },
  {
   "cell_type": "code",
   "execution_count": null,
   "metadata": {},
   "outputs": [],
   "source": []
  },
  {
   "cell_type": "code",
   "execution_count": null,
   "metadata": {},
   "outputs": [],
   "source": []
  },
  {
   "cell_type": "code",
   "execution_count": null,
   "metadata": {},
   "outputs": [],
   "source": []
  }
 ],
 "metadata": {
  "kernelspec": {
   "display_name": "Python 3",
   "language": "python",
   "name": "python3"
  },
  "language_info": {
   "codemirror_mode": {
    "name": "ipython",
    "version": 3
   },
   "file_extension": ".py",
   "mimetype": "text/x-python",
   "name": "python",
   "nbconvert_exporter": "python",
   "pygments_lexer": "ipython3",
   "version": "3.7.4"
  }
 },
 "nbformat": 4,
 "nbformat_minor": 4
}
